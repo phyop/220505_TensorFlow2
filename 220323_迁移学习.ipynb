{
  "cells": [
    {
      "cell_type": "markdown",
      "metadata": {
        "id": "view-in-github",
        "colab_type": "text"
      },
      "source": [
        "<a href=\"https://colab.research.google.com/github/phyop/220505_TensorFlow2/blob/main/220323_%E8%BF%81%E7%A7%BB%E5%AD%A6%E4%B9%A0.ipynb\" target=\"_parent\"><img src=\"https://colab.research.google.com/assets/colab-badge.svg\" alt=\"Open In Colab\"/></a>"
      ]
    },
    {
      "cell_type": "code",
      "source": [
        "from google.colab import drive\n",
        "drive.mount('/content/drive')"
      ],
      "metadata": {
        "id": "bv4W7MQwa0LI",
        "colab": {
          "base_uri": "https://localhost:8080/"
        },
        "outputId": "21114fcb-6990-4798-9fc9-d70c16612cc8"
      },
      "execution_count": null,
      "outputs": [
        {
          "output_type": "stream",
          "name": "stdout",
          "text": [
            "Mounted at /content/drive\n"
          ]
        }
      ]
    },
    {
      "cell_type": "markdown",
      "metadata": {
        "id": "PVKTs6_LUizi"
      },
      "source": [
        "## 迁移学习\n",
        "- 用人家训练好模型的权重参数当做咱们的初始化\n",
        "- 一般全连接层需要自己训练，可以选择是否训练别人训练好的特征提取层"
      ]
    },
    {
      "cell_type": "code",
      "execution_count": null,
      "metadata": {
        "id": "r8VU6BS4Un97"
      },
      "outputs": [],
      "source": [
        "import os\n",
        "import warnings\n",
        "warnings.filterwarnings(\"ignore\")\n",
        "import matplotlib.pyplot as plt\n",
        "import tensorflow as tf\n",
        "from tensorflow.keras.optimizers import Adam\n",
        "from tensorflow.keras.preprocessing.image import ImageDataGenerator\n",
        "from tensorflow.keras import layers\n",
        "from tensorflow.keras import Model"
      ]
    },
    {
      "cell_type": "code",
      "execution_count": null,
      "metadata": {
        "collapsed": true,
        "id": "-LpXqsLrUrUU"
      },
      "outputs": [],
      "source": [
        "base_dir = '/content/drive/MyDrive/GoogleDrive_yaboaru/Colab Notebooks/220304_唐tensorflow2版本实战/第五章：猫狗识别实战/data/cats_and_dogs'\n",
        "train_dir = os.path.join(base_dir, 'train')\n",
        "validation_dir = os.path.join(base_dir, 'validation')\n",
        "\n",
        "train_cats_dir = os.path.join(train_dir, 'cats')\n",
        "train_dogs_dir = os.path.join(train_dir, 'dogs')\n",
        "\n",
        "validation_cats_dir = os.path.join(validation_dir, 'cats')\n",
        "validation_dogs_dir = os.path.join(validation_dir, 'dogs')"
      ]
    },
    {
      "cell_type": "markdown",
      "metadata": {
        "id": "PUzYMooFavQy"
      },
      "source": [
        "### tensorflow.keras.applications\n",
        "- 里面有很多现成训练好的模型可以直接利用"
      ]
    },
    {
      "cell_type": "code",
      "execution_count": null,
      "metadata": {
        "id": "Xym1QZAdVHJI"
      },
      "outputs": [],
      "source": [
        "### 导入模型\n",
        "from tensorflow.keras.applications.resnet import ResNet50\n",
        "from tensorflow.keras.applications.resnet import ResNet101\n",
        "from tensorflow.keras.applications.inception_v3 import InceptionV3"
      ]
    },
    {
      "cell_type": "code",
      "execution_count": null,
      "metadata": {
        "id": "SRw5V6ciWw6v",
        "colab": {
          "base_uri": "https://localhost:8080/"
        },
        "outputId": "7867342b-1c16-46cf-9325-a14890d13846"
      },
      "outputs": [
        {
          "output_type": "stream",
          "name": "stdout",
          "text": [
            "Downloading data from https://storage.googleapis.com/tensorflow/keras-applications/resnet/resnet101_weights_tf_dim_ordering_tf_kernels_notop.h5\n",
            "171450368/171446536 [==============================] - 1s 0us/step\n",
            "171458560/171446536 [==============================] - 1s 0us/step\n"
          ]
        }
      ],
      "source": [
        "\"\"\"\n",
        "# top指的是全連接FC層，可能像是堆棧的push、pop那種圖示感覺，而不是指paper中的流程圖\n",
        ">>>include_top = False\n",
        "# 很多模型架構都是：（conv（relu）+ conv（relu）+ pool）× n次 + FC × 2次 + FC輸出\n",
        "# 對於上面的結構，一般說的特徵提取，都是指conv + pool\n",
        "# 參數weights = None，代表權重參數是隨機初始化的；weights = 'imagenet'，代表使用ImageNet的權重當作pre-train；也可以指定自己存放的路徑（必須是h5檔案）\n",
        "# 要load進預訓好的權重參數，那網路架構必須一樣，不然那些conv、pool等位置不就對不上了嗎\n",
        "# 執行load進預訓好的權重參數時，會print出一串網址，可以自己copy去迅雷或什麼的方式下載比較方便，不然在colab或jupyter notebook會下載的很慢\n",
        "# h5文件下載好之後，放到keras指定的資料夾下，然後重新執行剛剛要抓人家當做pre-train的代碼\n",
        "# 因爲跑code的時候會先去找那個資料夾，看有沒有存在，沒存在才去下載\n",
        "user -> .keras -> models\n",
        "\"\"\"\n",
        "pre_trained_model = ResNet101(input_shape = (75, 75, 3), # 输入大小\n",
        "                                include_top = False, # 不要最后的全连接层\n",
        "                                weights = 'imagenet')"
      ]
    },
    {
      "cell_type": "markdown",
      "metadata": {
        "id": "LCIDjGoOYFy7"
      },
      "source": [
        "可以选择训练哪些层"
      ]
    },
    {
      "cell_type": "code",
      "execution_count": null,
      "metadata": {
        "collapsed": true,
        "id": "mi44X5E8XBxK"
      },
      "outputs": [],
      "source": [
        "# 全部layer的權重都不做更新\n",
        "# 因爲include_top = False，所以要自己在後面加上FC層\n",
        "for layer in pre_trained_model.layers:\n",
        "    layer.trainable = False"
      ]
    },
    {
      "cell_type": "markdown",
      "metadata": {
        "id": "u2BrYW4XavQ1"
      },
      "source": [
        "### callback的作用\n",
        "\n",
        "- 相当于一个监视器，比如訓練集和驗證集的準確率差異，在训练过程中可以设置一些自定义项，提前停止，改变学习率等\n",
        "\n",
        "callbacks = [\n",
        "\n",
        "  如果连续两个epoch还没降低就停止：\n",
        "  \n",
        "      tf.keras.callbacks.EarlyStopping(patience=2, monitor='val_loss'),\n",
        "  \n",
        "  可以动态改变学习率：\n",
        "  \n",
        "      tf.keras.callbacks.LearningRateScheduler\n",
        "      \n",
        "  保存模型：\n",
        "  \n",
        "      tf.keras.callbacks.ModelCheckpoint\n",
        "      \n",
        "  自定义方法：\n",
        "  \n",
        "      tf.keras.callbacks.Callback\n",
        "]"
      ]
    },
    {
      "cell_type": "code",
      "execution_count": null,
      "metadata": {
        "collapsed": true,
        "id": "evg3SqLIYZwA"
      },
      "outputs": [],
      "source": [
        "# https://www.tensorflow.org/api_docs/python/tf/keras/callbacks/Callback#example\n",
        "# 自定義方法可以從API找到，class繼承、def名稱，這種重要的部分都不要改\n",
        "# 先把callback實現出來，之後在fit的generator當中，再把它傳進去\n",
        "class myCallback(tf.keras.callbacks.Callback):\n",
        "    def on_epoch_end(self, epoch, logs={}):\n",
        "        if(logs.get('acc')>0.95):\n",
        "            print(\"\\nReached 95% accuracy so cancelling training!\")\n",
        "            self.model.stop_training = True"
      ]
    },
    {
      "cell_type": "code",
      "execution_count": null,
      "metadata": {
        "id": "NcL9JswMYcrD"
      },
      "outputs": [],
      "source": [
        "# 這邊不再是用sequential那樣一個個add layer進去\n",
        "# 全連接的輸入需要是一維數據，所以要把特徵圖做flatten\n",
        "# pre_trained_model.output應該是個特徵圖，輸入到flatten，然後輸出x\n",
        "# 全連接layer可以加dropout，避免過擬合\n",
        "# 基因的力量在于混合的能力而非单个基因的能力，drop out消除减弱了神经元节点间的联合适应性，增强了泛化能力\n",
        "# 左邊一直都是x，因爲就是一直該層的輸出值，賦予給下一層當輸入值\n",
        "from tensorflow.keras.optimizers import Adam\n",
        "x = layers.Flatten()(pre_trained_model.output) \n",
        "# 加入全连接层，这个需要重头训练的\n",
        "x = layers.Dense(1024, activation='relu')(x) # 1024個隱層神經元\n",
        "x = layers.Dropout(0.2)(x)                  \n",
        "# 输出层\n",
        "x = layers.Dense(1, activation='sigmoid')(x) # 1個神經元，因爲只需要知道sigmoid出來後的幾率值，所以輸出1個就好了\n",
        "# 构建模型序列\n",
        "model = Model(pre_trained_model.input, x) # Model(輸入，輸出)\n",
        "\n",
        "model.compile(optimizer = Adam(lr=0.001), \n",
        "              loss = 'binary_crossentropy', \n",
        "              metrics = ['acc'])"
      ]
    },
    {
      "cell_type": "code",
      "execution_count": null,
      "metadata": {
        "colab": {
          "base_uri": "https://localhost:8080/"
        },
        "id": "o3-sSPttZNMq",
        "outputId": "df462061-84f1-4d2a-b9f0-d7ff6d5964ae"
      },
      "outputs": [
        {
          "output_type": "stream",
          "name": "stdout",
          "text": [
            "Found 2000 images belonging to 2 classes.\n",
            "Found 1000 images belonging to 2 classes.\n"
          ]
        }
      ],
      "source": [
        "# train和validation都要從dir中讀取圖片，所以都需要用到flow_from_dir\n",
        "# 而train要修正圖片，就需要generator\n",
        "# validation要rescale圖片，也可以使用generator\n",
        "# train要利用修正圖片來增加數據量，並且順帶藉由遮蔽等困難辨識，讓模型如果遇到這類圖像也能辨識得出來\n",
        "# validation只要數據歸一化，比如圖像從0～255改成0～1之間就好了\n",
        "train_datagen = ImageDataGenerator(rescale = 1./255.,\n",
        "                                   rotation_range = 40,\n",
        "                                   width_shift_range = 0.2,\n",
        "                                   height_shift_range = 0.2,\n",
        "                                   shear_range = 0.2,\n",
        "                                   zoom_range = 0.2,\n",
        "                                   horizontal_flip = True)\n",
        "\n",
        "test_datagen = ImageDataGenerator( rescale = 1.0/255. )\n",
        "\n",
        "train_generator = train_datagen.flow_from_directory(train_dir,\n",
        "                                                    batch_size = 20,\n",
        "                                                    class_mode = 'binary', \n",
        "                                                    target_size = (75, 75))     \n",
        "\n",
        "validation_generator =  test_datagen.flow_from_directory( validation_dir,\n",
        "                                                          batch_size  = 20,\n",
        "                                                          class_mode  = 'binary', \n",
        "                                                          target_size = (75, 75))"
      ]
    },
    {
      "cell_type": "markdown",
      "metadata": {
        "id": "HPGybkygavQ4"
      },
      "source": [
        "### 训练模型\n",
        "- 加入Callback()模块"
      ]
    },
    {
      "cell_type": "code",
      "execution_count": null,
      "metadata": {
        "colab": {
          "base_uri": "https://localhost:8080/"
        },
        "id": "0T_zGQmxa4j0",
        "outputId": "4f51a117-5641-4790-f0f4-145418190f32"
      },
      "outputs": [
        {
          "output_type": "stream",
          "name": "stdout",
          "text": [
            "Epoch 1/100\n",
            "100/100 - 493s - loss: 0.9784 - acc: 0.5345 - val_loss: 0.7443 - val_acc: 0.5170 - 493s/epoch - 5s/step\n",
            "Epoch 2/100\n",
            "100/100 - 23s - loss: 0.7158 - acc: 0.5225 - val_loss: 0.6779 - val_acc: 0.5900 - 23s/epoch - 234ms/step\n",
            "Epoch 3/100\n",
            "100/100 - 22s - loss: 0.6885 - acc: 0.5445 - val_loss: 0.6815 - val_acc: 0.5790 - 22s/epoch - 224ms/step\n",
            "Epoch 4/100\n",
            "100/100 - 22s - loss: 0.6895 - acc: 0.5330 - val_loss: 0.6810 - val_acc: 0.5700 - 22s/epoch - 220ms/step\n",
            "Epoch 5/100\n",
            "100/100 - 22s - loss: 0.6865 - acc: 0.5320 - val_loss: 0.6851 - val_acc: 0.5230 - 22s/epoch - 220ms/step\n",
            "Epoch 6/100\n",
            "100/100 - 22s - loss: 0.6901 - acc: 0.5375 - val_loss: 0.6766 - val_acc: 0.5900 - 22s/epoch - 218ms/step\n",
            "Epoch 7/100\n",
            "100/100 - 22s - loss: 0.6866 - acc: 0.5425 - val_loss: 0.6773 - val_acc: 0.5580 - 22s/epoch - 218ms/step\n",
            "Epoch 8/100\n",
            "100/100 - 22s - loss: 0.6789 - acc: 0.5600 - val_loss: 0.6666 - val_acc: 0.6130 - 22s/epoch - 224ms/step\n",
            "Epoch 9/100\n",
            "100/100 - 23s - loss: 0.6775 - acc: 0.5515 - val_loss: 0.6702 - val_acc: 0.6000 - 23s/epoch - 231ms/step\n",
            "Epoch 10/100\n",
            "100/100 - 23s - loss: 0.6873 - acc: 0.5190 - val_loss: 0.6824 - val_acc: 0.5000 - 23s/epoch - 228ms/step\n",
            "Epoch 11/100\n",
            "100/100 - 23s - loss: 0.6857 - acc: 0.5360 - val_loss: 0.6811 - val_acc: 0.5970 - 23s/epoch - 228ms/step\n",
            "Epoch 12/100\n",
            "100/100 - 22s - loss: 0.6837 - acc: 0.5565 - val_loss: 0.6758 - val_acc: 0.6110 - 22s/epoch - 223ms/step\n",
            "Epoch 13/100\n",
            "100/100 - 24s - loss: 0.6866 - acc: 0.5380 - val_loss: 0.6929 - val_acc: 0.5060 - 24s/epoch - 235ms/step\n",
            "Epoch 14/100\n",
            "100/100 - 24s - loss: 0.6890 - acc: 0.5440 - val_loss: 0.6743 - val_acc: 0.5760 - 24s/epoch - 241ms/step\n",
            "Epoch 15/100\n",
            "100/100 - 23s - loss: 0.6849 - acc: 0.5535 - val_loss: 0.6755 - val_acc: 0.6030 - 23s/epoch - 235ms/step\n",
            "Epoch 16/100\n",
            "100/100 - 23s - loss: 0.6793 - acc: 0.5685 - val_loss: 0.6677 - val_acc: 0.6190 - 23s/epoch - 233ms/step\n",
            "Epoch 17/100\n",
            "100/100 - 23s - loss: 0.6826 - acc: 0.5610 - val_loss: 0.6691 - val_acc: 0.6400 - 23s/epoch - 226ms/step\n",
            "Epoch 18/100\n",
            "100/100 - 22s - loss: 0.6837 - acc: 0.5640 - val_loss: 0.6712 - val_acc: 0.6320 - 22s/epoch - 220ms/step\n",
            "Epoch 19/100\n",
            "100/100 - 23s - loss: 0.6803 - acc: 0.5630 - val_loss: 0.6743 - val_acc: 0.6090 - 23s/epoch - 226ms/step\n",
            "Epoch 20/100\n",
            "100/100 - 23s - loss: 0.6808 - acc: 0.5660 - val_loss: 0.6840 - val_acc: 0.5610 - 23s/epoch - 234ms/step\n",
            "Epoch 21/100\n",
            "100/100 - 23s - loss: 0.6798 - acc: 0.5650 - val_loss: 0.6634 - val_acc: 0.6520 - 23s/epoch - 234ms/step\n",
            "Epoch 22/100\n",
            "100/100 - 23s - loss: 0.6855 - acc: 0.5535 - val_loss: 0.6649 - val_acc: 0.6330 - 23s/epoch - 234ms/step\n",
            "Epoch 23/100\n",
            "100/100 - 23s - loss: 0.6746 - acc: 0.5810 - val_loss: 0.6590 - val_acc: 0.6120 - 23s/epoch - 234ms/step\n",
            "Epoch 24/100\n",
            "100/100 - 22s - loss: 0.6877 - acc: 0.5360 - val_loss: 0.6946 - val_acc: 0.5080 - 22s/epoch - 218ms/step\n",
            "Epoch 25/100\n",
            "100/100 - 22s - loss: 0.6857 - acc: 0.5410 - val_loss: 0.6688 - val_acc: 0.6180 - 22s/epoch - 222ms/step\n",
            "Epoch 26/100\n",
            "100/100 - 24s - loss: 0.6854 - acc: 0.5505 - val_loss: 0.6637 - val_acc: 0.6040 - 24s/epoch - 242ms/step\n",
            "Epoch 27/100\n",
            "100/100 - 26s - loss: 0.6749 - acc: 0.5820 - val_loss: 0.6550 - val_acc: 0.6290 - 26s/epoch - 257ms/step\n",
            "Epoch 28/100\n",
            "100/100 - 27s - loss: 0.6799 - acc: 0.5580 - val_loss: 0.6554 - val_acc: 0.6480 - 27s/epoch - 268ms/step\n",
            "Epoch 29/100\n",
            "100/100 - 23s - loss: 0.6802 - acc: 0.5740 - val_loss: 0.6535 - val_acc: 0.6320 - 23s/epoch - 228ms/step\n",
            "Epoch 30/100\n",
            "100/100 - 26s - loss: 0.6777 - acc: 0.5835 - val_loss: 0.6574 - val_acc: 0.6040 - 26s/epoch - 257ms/step\n",
            "Epoch 31/100\n",
            "100/100 - 23s - loss: 0.6703 - acc: 0.5820 - val_loss: 0.6531 - val_acc: 0.6630 - 23s/epoch - 227ms/step\n",
            "Epoch 32/100\n",
            "100/100 - 23s - loss: 0.6695 - acc: 0.5970 - val_loss: 0.6575 - val_acc: 0.6100 - 23s/epoch - 230ms/step\n",
            "Epoch 33/100\n",
            "100/100 - 23s - loss: 0.6824 - acc: 0.5490 - val_loss: 0.6497 - val_acc: 0.6250 - 23s/epoch - 228ms/step\n",
            "Epoch 34/100\n",
            "100/100 - 25s - loss: 0.6706 - acc: 0.5790 - val_loss: 0.6525 - val_acc: 0.6280 - 25s/epoch - 254ms/step\n",
            "Epoch 35/100\n",
            "100/100 - 23s - loss: 0.6681 - acc: 0.5885 - val_loss: 0.6849 - val_acc: 0.5670 - 23s/epoch - 231ms/step\n",
            "Epoch 36/100\n",
            "100/100 - 24s - loss: 0.6826 - acc: 0.5675 - val_loss: 0.6571 - val_acc: 0.6120 - 24s/epoch - 240ms/step\n",
            "Epoch 37/100\n",
            "100/100 - 23s - loss: 0.6750 - acc: 0.5865 - val_loss: 0.6478 - val_acc: 0.6290 - 23s/epoch - 228ms/step\n",
            "Epoch 38/100\n",
            "100/100 - 27s - loss: 0.6729 - acc: 0.5745 - val_loss: 0.6444 - val_acc: 0.6470 - 27s/epoch - 266ms/step\n",
            "Epoch 39/100\n",
            "100/100 - 23s - loss: 0.6666 - acc: 0.5970 - val_loss: 0.6483 - val_acc: 0.6530 - 23s/epoch - 227ms/step\n",
            "Epoch 40/100\n",
            "100/100 - 22s - loss: 0.6704 - acc: 0.5880 - val_loss: 0.6423 - val_acc: 0.6520 - 22s/epoch - 224ms/step\n",
            "Epoch 41/100\n",
            "100/100 - 23s - loss: 0.6754 - acc: 0.5820 - val_loss: 0.6501 - val_acc: 0.6180 - 23s/epoch - 227ms/step\n",
            "Epoch 42/100\n",
            "100/100 - 23s - loss: 0.6676 - acc: 0.5885 - val_loss: 0.6427 - val_acc: 0.6370 - 23s/epoch - 227ms/step\n",
            "Epoch 43/100\n",
            "100/100 - 26s - loss: 0.6717 - acc: 0.5880 - val_loss: 0.6432 - val_acc: 0.6350 - 26s/epoch - 262ms/step\n",
            "Epoch 44/100\n",
            "100/100 - 24s - loss: 0.6721 - acc: 0.5865 - val_loss: 0.6456 - val_acc: 0.6520 - 24s/epoch - 241ms/step\n",
            "Epoch 45/100\n",
            "100/100 - 22s - loss: 0.6815 - acc: 0.5625 - val_loss: 0.6412 - val_acc: 0.6580 - 22s/epoch - 223ms/step\n",
            "Epoch 46/100\n",
            "100/100 - 22s - loss: 0.6687 - acc: 0.5985 - val_loss: 0.6501 - val_acc: 0.6190 - 22s/epoch - 223ms/step\n",
            "Epoch 47/100\n",
            "100/100 - 23s - loss: 0.6735 - acc: 0.5750 - val_loss: 0.6425 - val_acc: 0.6370 - 23s/epoch - 230ms/step\n",
            "Epoch 48/100\n",
            "100/100 - 22s - loss: 0.6681 - acc: 0.5860 - val_loss: 0.6439 - val_acc: 0.6530 - 22s/epoch - 221ms/step\n",
            "Epoch 49/100\n",
            "100/100 - 22s - loss: 0.6658 - acc: 0.6050 - val_loss: 0.6369 - val_acc: 0.6460 - 22s/epoch - 217ms/step\n",
            "Epoch 50/100\n",
            "100/100 - 22s - loss: 0.6659 - acc: 0.5950 - val_loss: 0.6413 - val_acc: 0.6600 - 22s/epoch - 218ms/step\n",
            "Epoch 51/100\n",
            "100/100 - 25s - loss: 0.6654 - acc: 0.6015 - val_loss: 0.6355 - val_acc: 0.6730 - 25s/epoch - 249ms/step\n",
            "Epoch 52/100\n",
            "100/100 - 25s - loss: 0.6713 - acc: 0.5780 - val_loss: 0.6654 - val_acc: 0.6010 - 25s/epoch - 253ms/step\n",
            "Epoch 53/100\n",
            "100/100 - 24s - loss: 0.6677 - acc: 0.5920 - val_loss: 0.6382 - val_acc: 0.6340 - 24s/epoch - 235ms/step\n",
            "Epoch 54/100\n",
            "100/100 - 24s - loss: 0.6733 - acc: 0.5810 - val_loss: 0.6347 - val_acc: 0.6510 - 24s/epoch - 238ms/step\n",
            "Epoch 55/100\n",
            "100/100 - 23s - loss: 0.6607 - acc: 0.6110 - val_loss: 0.6463 - val_acc: 0.6130 - 23s/epoch - 234ms/step\n",
            "Epoch 56/100\n",
            "100/100 - 23s - loss: 0.6590 - acc: 0.6180 - val_loss: 0.6386 - val_acc: 0.6610 - 23s/epoch - 227ms/step\n",
            "Epoch 57/100\n",
            "100/100 - 24s - loss: 0.6613 - acc: 0.6050 - val_loss: 0.6424 - val_acc: 0.6510 - 24s/epoch - 238ms/step\n",
            "Epoch 58/100\n",
            "100/100 - 24s - loss: 0.6704 - acc: 0.5945 - val_loss: 0.6246 - val_acc: 0.6620 - 24s/epoch - 237ms/step\n",
            "Epoch 59/100\n",
            "100/100 - 23s - loss: 0.6611 - acc: 0.6035 - val_loss: 0.6301 - val_acc: 0.6790 - 23s/epoch - 231ms/step\n",
            "Epoch 60/100\n",
            "100/100 - 22s - loss: 0.6605 - acc: 0.6060 - val_loss: 0.6536 - val_acc: 0.6000 - 22s/epoch - 218ms/step\n",
            "Epoch 61/100\n",
            "100/100 - 22s - loss: 0.6724 - acc: 0.5725 - val_loss: 0.6299 - val_acc: 0.6810 - 22s/epoch - 219ms/step\n",
            "Epoch 62/100\n",
            "100/100 - 22s - loss: 0.6641 - acc: 0.6005 - val_loss: 0.6328 - val_acc: 0.6800 - 22s/epoch - 215ms/step\n",
            "Epoch 63/100\n",
            "100/100 - 22s - loss: 0.6652 - acc: 0.6020 - val_loss: 0.6259 - val_acc: 0.6600 - 22s/epoch - 220ms/step\n",
            "Epoch 64/100\n",
            "100/100 - 22s - loss: 0.6615 - acc: 0.6115 - val_loss: 0.6256 - val_acc: 0.6670 - 22s/epoch - 217ms/step\n",
            "Epoch 65/100\n",
            "100/100 - 22s - loss: 0.6683 - acc: 0.5945 - val_loss: 0.6292 - val_acc: 0.6560 - 22s/epoch - 223ms/step\n",
            "Epoch 66/100\n",
            "100/100 - 21s - loss: 0.6648 - acc: 0.5960 - val_loss: 0.6390 - val_acc: 0.6540 - 21s/epoch - 215ms/step\n",
            "Epoch 67/100\n",
            "100/100 - 22s - loss: 0.6674 - acc: 0.5920 - val_loss: 0.6269 - val_acc: 0.6810 - 22s/epoch - 216ms/step\n",
            "Epoch 68/100\n",
            "100/100 - 22s - loss: 0.6638 - acc: 0.5945 - val_loss: 0.6276 - val_acc: 0.6640 - 22s/epoch - 222ms/step\n",
            "Epoch 69/100\n",
            "100/100 - 22s - loss: 0.6670 - acc: 0.5930 - val_loss: 0.6281 - val_acc: 0.6620 - 22s/epoch - 225ms/step\n",
            "Epoch 70/100\n",
            "100/100 - 23s - loss: 0.6534 - acc: 0.6085 - val_loss: 0.6382 - val_acc: 0.6380 - 23s/epoch - 228ms/step\n",
            "Epoch 71/100\n",
            "100/100 - 22s - loss: 0.6691 - acc: 0.5810 - val_loss: 0.6318 - val_acc: 0.6380 - 22s/epoch - 223ms/step\n",
            "Epoch 72/100\n",
            "100/100 - 22s - loss: 0.6577 - acc: 0.6075 - val_loss: 0.6245 - val_acc: 0.6720 - 22s/epoch - 225ms/step\n",
            "Epoch 73/100\n",
            "100/100 - 23s - loss: 0.6603 - acc: 0.6040 - val_loss: 0.6276 - val_acc: 0.6520 - 23s/epoch - 230ms/step\n",
            "Epoch 74/100\n",
            "100/100 - 22s - loss: 0.6583 - acc: 0.6075 - val_loss: 0.6286 - val_acc: 0.6820 - 22s/epoch - 220ms/step\n",
            "Epoch 75/100\n",
            "100/100 - 22s - loss: 0.6639 - acc: 0.6100 - val_loss: 0.6267 - val_acc: 0.6710 - 22s/epoch - 222ms/step\n",
            "Epoch 76/100\n",
            "100/100 - 22s - loss: 0.6638 - acc: 0.6040 - val_loss: 0.6382 - val_acc: 0.6530 - 22s/epoch - 221ms/step\n",
            "Epoch 77/100\n",
            "100/100 - 22s - loss: 0.6618 - acc: 0.6130 - val_loss: 0.6248 - val_acc: 0.6820 - 22s/epoch - 223ms/step\n",
            "Epoch 78/100\n",
            "100/100 - 22s - loss: 0.6641 - acc: 0.6060 - val_loss: 0.6268 - val_acc: 0.6550 - 22s/epoch - 219ms/step\n",
            "Epoch 79/100\n",
            "100/100 - 22s - loss: 0.6622 - acc: 0.5990 - val_loss: 0.6425 - val_acc: 0.6390 - 22s/epoch - 219ms/step\n",
            "Epoch 80/100\n",
            "100/100 - 21s - loss: 0.6610 - acc: 0.6020 - val_loss: 0.6209 - val_acc: 0.6690 - 21s/epoch - 214ms/step\n",
            "Epoch 81/100\n",
            "100/100 - 21s - loss: 0.6641 - acc: 0.5885 - val_loss: 0.6317 - val_acc: 0.6680 - 21s/epoch - 214ms/step\n",
            "Epoch 82/100\n",
            "100/100 - 22s - loss: 0.6722 - acc: 0.5830 - val_loss: 0.6349 - val_acc: 0.6610 - 22s/epoch - 217ms/step\n",
            "Epoch 83/100\n",
            "100/100 - 22s - loss: 0.6582 - acc: 0.6070 - val_loss: 0.6346 - val_acc: 0.6310 - 22s/epoch - 216ms/step\n",
            "Epoch 84/100\n",
            "100/100 - 22s - loss: 0.6622 - acc: 0.6045 - val_loss: 0.6230 - val_acc: 0.6590 - 22s/epoch - 220ms/step\n",
            "Epoch 85/100\n",
            "100/100 - 22s - loss: 0.6544 - acc: 0.6110 - val_loss: 0.6222 - val_acc: 0.6640 - 22s/epoch - 216ms/step\n",
            "Epoch 86/100\n",
            "100/100 - 22s - loss: 0.6569 - acc: 0.5965 - val_loss: 0.6201 - val_acc: 0.6850 - 22s/epoch - 217ms/step\n",
            "Epoch 87/100\n",
            "100/100 - 22s - loss: 0.6730 - acc: 0.5770 - val_loss: 0.6319 - val_acc: 0.6380 - 22s/epoch - 224ms/step\n",
            "Epoch 88/100\n",
            "100/100 - 22s - loss: 0.6576 - acc: 0.6080 - val_loss: 0.6197 - val_acc: 0.6810 - 22s/epoch - 220ms/step\n",
            "Epoch 89/100\n",
            "100/100 - 22s - loss: 0.6598 - acc: 0.6050 - val_loss: 0.6241 - val_acc: 0.6580 - 22s/epoch - 220ms/step\n",
            "Epoch 90/100\n",
            "100/100 - 22s - loss: 0.6629 - acc: 0.5925 - val_loss: 0.6560 - val_acc: 0.6270 - 22s/epoch - 222ms/step\n",
            "Epoch 91/100\n",
            "100/100 - 23s - loss: 0.6527 - acc: 0.6165 - val_loss: 0.6305 - val_acc: 0.6600 - 23s/epoch - 226ms/step\n",
            "Epoch 92/100\n",
            "100/100 - 23s - loss: 0.6583 - acc: 0.6140 - val_loss: 0.6194 - val_acc: 0.6730 - 23s/epoch - 233ms/step\n",
            "Epoch 93/100\n",
            "100/100 - 23s - loss: 0.6631 - acc: 0.6080 - val_loss: 0.6221 - val_acc: 0.6820 - 23s/epoch - 229ms/step\n",
            "Epoch 94/100\n",
            "100/100 - 22s - loss: 0.6561 - acc: 0.6205 - val_loss: 0.6189 - val_acc: 0.6830 - 22s/epoch - 222ms/step\n",
            "Epoch 95/100\n",
            "100/100 - 22s - loss: 0.6610 - acc: 0.6060 - val_loss: 0.6211 - val_acc: 0.6870 - 22s/epoch - 219ms/step\n",
            "Epoch 96/100\n",
            "100/100 - 22s - loss: 0.6571 - acc: 0.6115 - val_loss: 0.6242 - val_acc: 0.6830 - 22s/epoch - 219ms/step\n",
            "Epoch 97/100\n",
            "100/100 - 22s - loss: 0.6612 - acc: 0.6090 - val_loss: 0.6327 - val_acc: 0.6290 - 22s/epoch - 220ms/step\n",
            "Epoch 98/100\n",
            "100/100 - 22s - loss: 0.6589 - acc: 0.6100 - val_loss: 0.6224 - val_acc: 0.6590 - 22s/epoch - 222ms/step\n",
            "Epoch 99/100\n",
            "100/100 - 23s - loss: 0.6541 - acc: 0.6185 - val_loss: 0.6176 - val_acc: 0.6780 - 23s/epoch - 229ms/step\n",
            "Epoch 100/100\n",
            "100/100 - 22s - loss: 0.6607 - acc: 0.6080 - val_loss: 0.6188 - val_acc: 0.6910 - 22s/epoch - 220ms/step\n"
          ]
        }
      ],
      "source": [
        "# 在訓練的時候，可以加入Callback。\n",
        "# 用法就是，創建一個Callback的實例，然後以list的方式傳給callbacks=\n",
        "# 因爲有使用generator，所以要把原本的modle.fit，改成model.fit_generator\n",
        "callbacks = myCallback()\n",
        "history = model.fit_generator(\n",
        "            train_generator,\n",
        "            validation_data = validation_generator,\n",
        "            steps_per_epoch = 100,\n",
        "            epochs = 100,\n",
        "            validation_steps = 50,\n",
        "            verbose = 2,\n",
        "            callbacks=[callbacks])"
      ]
    },
    {
      "cell_type": "markdown",
      "metadata": {
        "id": "yHcu9_-5kTd0"
      },
      "source": [
        "绘图展示"
      ]
    },
    {
      "cell_type": "code",
      "execution_count": null,
      "metadata": {
        "colab": {
          "base_uri": "https://localhost:8080/",
          "height": 545
        },
        "id": "svffv8FfbBBF",
        "outputId": "39e05672-a405-44e2-b457-4e69e9a1bb84"
      },
      "outputs": [
        {
          "output_type": "display_data",
          "data": {
            "text/plain": [
              "<Figure size 432x288 with 1 Axes>"
            ],
            "image/png": "[encoded data removed]"
          },
          "metadata": {
            "needs_background": "light"
          }
        },
        {
          "output_type": "display_data",
          "data": {
            "text/plain": [
              "<Figure size 432x288 with 1 Axes>"
            ],
            "image/png": "[encoded data removed]"
          },
          "metadata": {
            "needs_background": "light"
          }
        }
      ],
      "source": [
        "# 視覺化還是比較容易懂，所以可以畫圖就畫圖吧！\n",
        "# 而training要畫圖，總少不了history.history\n",
        "import matplotlib.pyplot as plt\n",
        "acc = history.history['acc']\n",
        "val_acc = history.history['val_acc']\n",
        "loss = history.history['loss']\n",
        "val_loss = history.history['val_loss']\n",
        "\n",
        "# 反正隨便選一個history.history的元素，看list有多長，就知道跑了幾回epoch\n",
        "epochs = range(len(acc))\n",
        "\n",
        "# 基本上就是plt.plot(x值，y值），然後再搜尋怎麼加入label、title、legend\n",
        "# 做當前沒有任何畫布的時候，會直接把創建的畫布當target，然後畫在上面\n",
        "plt.plot(epochs, acc, 'b', label='Training accuracy')\n",
        "plt.plot(epochs, val_acc, 'r', label='Validation accuracy')\n",
        "plt.title('Training and validation accuracy')\n",
        "plt.legend()\n",
        "\n",
        "# 但因爲當前已經有一張畫布，所以會把那塊畫布，當作當前畫布使用\n",
        "# 如果想要指定畫到另一張畫布的話，就需要再創一張新的畫布\n",
        "# 那就會再把新創的畫布，當作當前畫布使用\n",
        "plt.figure() \n",
        "\n",
        "plt.plot(epochs, loss, 'b', label='Training Loss')\n",
        "plt.plot(epochs, val_loss, 'r', label='Validation Loss')\n",
        "plt.title('Training and validation loss')\n",
        "plt.legend()\n",
        "\n",
        "# 全部都設置完之後，就可以顯示出來啦\n",
        "# 如果plt.show()太早，那跑後面設置顏色什麼的code時，會因爲沒有呼叫要去更新畫面顯示，所以顯示的畫面仍然會是舊的畫面\n",
        "plt.show()"
      ]
    },
    {
      "cell_type": "markdown",
      "metadata": {
        "id": "MAiYkPWRlTh3"
      },
      "source": [
        "### 也可以自己选择需要的层，也就是取到哪一层\n",
        "\n",
        "- last_layer = pre_trained_model.get_layer('层的名字') "
      ]
    }
  ],
  "metadata": {
    "accelerator": "GPU",
    "colab": {
      "collapsed_sections": [],
      "name": "220323_迁移学习.ipynb",
      "provenance": [],
      "include_colab_link": true
    },
    "kernelspec": {
      "display_name": "Python 3",
      "language": "python",
      "name": "python3"
    },
    "language_info": {
      "codemirror_mode": {
        "name": "ipython",
        "version": 3
      },
      "file_extension": ".py",
      "mimetype": "text/x-python",
      "name": "python",
      "nbconvert_exporter": "python",
      "pygments_lexer": "ipython3",
      "version": "3.6.3"
    }
  },
  "nbformat": 4,
  "nbformat_minor": 0
}