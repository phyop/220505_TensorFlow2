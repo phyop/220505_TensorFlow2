{
  "cells": [
    {
      "cell_type": "markdown",
      "metadata": {
        "id": "view-in-github",
        "colab_type": "text"
      },
      "source": [
        "<a href=\"https://colab.research.google.com/github/phyop/220505_TensorFlow2/blob/main/220321_%E7%8C%AB%E7%8B%97%E8%AF%86%E5%88%AB.ipynb\" target=\"_parent\"><img src=\"https://colab.research.google.com/assets/colab-badge.svg\" alt=\"Open In Colab\"/></a>"
      ]
    },
    {
      "cell_type": "code",
      "source": [
        "from google.colab import drive\n",
        "drive.mount('/content/drive')"
      ],
      "metadata": {
        "colab": {
          "base_uri": "https://localhost:8080/"
        },
        "id": "VQEBBxdK76bT",
        "outputId": "ac930578-2b5e-4e7a-9109-7cb786de28d5"
      },
      "execution_count": null,
      "outputs": [
        {
          "output_type": "stream",
          "name": "stdout",
          "text": [
            "Mounted at /content/drive\n"
          ]
        }
      ]
    },
    {
      "cell_type": "markdown",
      "metadata": {
        "id": "3bSXLX4pkdxs"
      },
      "source": [
        "## 猫狗识别\n",
        "\n",
        "- 数据预处理：图像数据处理，准备训练和验证数据集\n",
        "- 卷积网络模型：构建网络架构\n",
        "- 过拟合问题：观察训练和验证效果，针对过拟合问题提出解决方法\n",
        "- 数据增强：图像数据增强方法与效果\n",
        "- 迁移学习：深度学习必备训练策略"
      ]
    },
    {
      "cell_type": "markdown",
      "metadata": {
        "id": "U-3ty_cY7x6t"
      },
      "source": [
        "![](https://drive.google.com/uc?export=view&id=1t9stFtY2XC78RV1uHnqg7fFNiTTq2rOa)"
      ]
    },
    {
      "cell_type": "markdown",
      "metadata": {
        "id": "3TQcJVqBuYi4"
      },
      "source": [
        "### 导入工具包"
      ]
    },
    {
      "cell_type": "code",
      "execution_count": null,
      "metadata": {
        "id": "uyi-eUVGTe_j"
      },
      "outputs": [],
      "source": [
        "import os\n",
        "import warnings\n",
        "warnings.filterwarnings(\"ignore\")\n",
        "import tensorflow as tf\n",
        "from tensorflow.keras.optimizers import Adam\n",
        "from tensorflow.keras.preprocessing.image import ImageDataGenerator\n",
        "\n",
        "# https://docs.python.org/zh-tw/3/library/warnings.html\n",
        "\n",
        "# warnings.filterwarnings(action, message='', category=Warning, module='', lineno=0, append=False)¶\n",
        "\n",
        "# action 是以下字符串之一：\n",
        "# \"default\" 为发出警告的每个位置（模块+行号）打印第一个匹配警告\n",
        "# \"error\" 将匹配警告转换为异常 \n",
        "# \"ignore\" 从不打印匹配的警告 \n",
        "# \"always\" 总是打印匹配的警告\n",
        "# \"module\" 为发出警告的每个模块打印第一次匹配警告（无论行号如何）\n",
        "# \"once\" 无论位置如何，仅打印第一次出现的匹配警告"
      ]
    },
    {
      "cell_type": "markdown",
      "metadata": {
        "id": "gatL3NZbvj_p"
      },
      "source": [
        "### 指定好数据路径（训练和验证）"
      ]
    },
    {
      "cell_type": "code",
      "execution_count": null,
      "metadata": {
        "collapsed": true,
        "id": "CRLCp-a6vtCN"
      },
      "outputs": [],
      "source": [
        "# base下建2個dir，分別是訓練與驗證，而各自下面又有圖像的n個分類\n",
        "# 只要先給定base的絕對路徑，其他位置都用os.path.join來去做定位\n",
        "\n",
        "# 数据所在文件夹\n",
        "base_dir = '/content/drive/MyDrive/GoogleDrive_yaboaru/Colab Notebooks/220304_唐tensorflow2版本实战/第五章：猫狗识别实战/data/cats_and_dogs'\n",
        "train_dir = os.path.join(base_dir, 'train')\n",
        "validation_dir = os.path.join(base_dir, 'validation')\n",
        "\n",
        "# 训练集\n",
        "train_cats_dir = os.path.join(train_dir, 'cats')\n",
        "train_dogs_dir = os.path.join(train_dir, 'dogs')\n",
        "\n",
        "# 验证集\n",
        "validation_cats_dir = os.path.join(validation_dir, 'cats')\n",
        "validation_dogs_dir = os.path.join(validation_dir, 'dogs')"
      ]
    },
    {
      "cell_type": "markdown",
      "metadata": {
        "id": "D72OzHazUUK9"
      },
      "source": [
        "### 构建卷积神经网络模型\n",
        "- 几层都可以，大家可以随意玩\n",
        "- 如果用CPU训练，可以把输入设置的更小一些，一般输入大小更主要的决定了训练速度"
      ]
    },
    {
      "cell_type": "code",
      "execution_count": null,
      "metadata": {
        "id": "Aedt-HNewUP3"
      },
      "outputs": [],
      "source": [
        "# 因為conv的輸出會直接接激活，是一套的（目的是增加函數的非線性），所以激活會直接在conv的函數中當參數來做設置\n",
        "# models.Sequential就是自己一層層的自定義設置下去，而不使用經典模型\n",
        "# 一般MaxPooling都是各邊取1/2,所以(2, 2)幾乎是定版的了\n",
        "# conv之後，一來，特征圖雖然越來越小，但張數就越來越多張\n",
        "# 二來，大的特征圖，不代表越特征精細，裡面可能一堆空洞的低值，所以max pooling可以減少很多不必要的計算量。\n",
        "model = tf.keras.models.Sequential([\n",
        "    #如果训练慢，可以把数据设置的更小一些\n",
        "    tf.keras.layers.Conv2D(32, (3,3), activation='relu', input_shape=(64, 64, 3)),\n",
        "    tf.keras.layers.MaxPooling2D(2, 2), \n",
        "\n",
        "    tf.keras.layers.Conv2D(64, (3,3), activation='relu'),\n",
        "    tf.keras.layers.MaxPooling2D(2,2),\n",
        "\n",
        "    tf.keras.layers.Conv2D(128, (3,3), activation='relu'),\n",
        "    tf.keras.layers.MaxPooling2D(2,2),\n",
        "    \n",
        "    #为全连接层准备\n",
        "    tf.keras.layers.Flatten(),\n",
        "    \n",
        "    tf.keras.layers.Dense(512, activation='relu'),\n",
        "    # 二分類的話，因為輸出一個值就夠了，大於0.5是狗，小於是貓。所以可以用0~1之間的sigmoid\n",
        "    tf.keras.layers.Dense(1, activation='sigmoid') # \n",
        "])"
      ]
    },
    {
      "cell_type": "code",
      "source": [
        "# https://www.tensorflow.org/api_docs/python/tf/keras/layers/Conv3D\n",
        "\n",
        "# Conv2D(參數)(前層輸出)，應該是TF的特殊語法\n",
        "# 不輸入data_format，就會選擇default的channels_last\n",
        "# 所以會自動把Input_shape對應到(batch_size, height, width, channels)\n",
        "\n",
        "input_shape = (4, 28, 28, 3) # Batch = 4 的 28x28 RGB圖像\n",
        "x = tf.random.normal(input_shape) # 等同np.random.normal(size=input_shape)\n",
        "print(x.shape) # (4, 28, 28, 3)\n",
        "y = tf.keras.layers.Conv2D(\n",
        "2, 3, activation='relu', input_shape=input_shape)(x) # (...)中代表的是前層的輸出\n",
        "print(y.shape) # (4, 26, 26, 2)"
      ],
      "metadata": {
        "colab": {
          "base_uri": "https://localhost:8080/"
        },
        "id": "vWW_ORSc8Xsh",
        "outputId": "a9cbf5f8-cc30-4cfb-db87-c8dcbbb9126b"
      },
      "execution_count": null,
      "outputs": [
        {
          "output_type": "stream",
          "name": "stdout",
          "text": [
            "(4, 28, 28, 3)\n",
            "(4, 26, 26, 2)\n"
          ]
        }
      ]
    },
    {
      "cell_type": "code",
      "execution_count": null,
      "metadata": {
        "colab": {
          "base_uri": "https://localhost:8080/"
        },
        "id": "tDtm3juUWpw6",
        "outputId": "1f055f20-010b-4163-d88b-3400c8a610b0"
      },
      "outputs": [
        {
          "output_type": "stream",
          "name": "stdout",
          "text": [
            "Model: \"sequential\"\n",
            "_________________________________________________________________\n",
            " Layer (type)                Output Shape              Param #   \n",
            "=================================================================\n",
            " conv2d_2 (Conv2D)           (None, 62, 62, 32)        896       \n",
            "                                                                 \n",
            " max_pooling2d (MaxPooling2D  (None, 31, 31, 32)       0         \n",
            " )                                                               \n",
            "                                                                 \n",
            " conv2d_3 (Conv2D)           (None, 29, 29, 64)        18496     \n",
            "                                                                 \n",
            " max_pooling2d_1 (MaxPooling  (None, 14, 14, 64)       0         \n",
            " 2D)                                                             \n",
            "                                                                 \n",
            " conv2d_4 (Conv2D)           (None, 12, 12, 128)       73856     \n",
            "                                                                 \n",
            " max_pooling2d_2 (MaxPooling  (None, 6, 6, 128)        0         \n",
            " 2D)                                                             \n",
            "                                                                 \n",
            " flatten (Flatten)           (None, 4608)              0         \n",
            "                                                                 \n",
            " dense (Dense)               (None, 512)               2359808   \n",
            "                                                                 \n",
            " dense_1 (Dense)             (None, 1)                 513       \n",
            "                                                                 \n",
            "=================================================================\n",
            "Total params: 2,453,569\n",
            "Trainable params: 2,453,569\n",
            "Non-trainable params: 0\n",
            "_________________________________________________________________\n"
          ]
        }
      ],
      "source": [
        "model.summary()\n",
        "# H2 = (H1-FH+2P)/S + 1 -> (64-3+0)/1 + 1 = 62 輸出shape\n",
        "# 32個3通道的3*3卷積核 -> 32*3*（3*3） + 32個偏量b  = 896 個權重參數量\n",
        "\n",
        "# 所謂權重參數，就是會根據每batch的訓練（正向傳遞算損失、反向微分算梯度）後，去調整改變的參數\n",
        "# 正向傳播「像素是變數」，也就是不同像素乘上各自的權重做計算結果，看這個像素屬於哪個分類的幾率值\n",
        "# 根據損失函數的數值，去判斷和正確分類的差值還有多少\n",
        "# 反向傳播「權重是變數」(因爲輸入的像素不會改變)\n",
        "# 為了讓損失函數趨向下，利用對變數做微分計算梯度，得到權重參數的調整值\n",
        "\n",
        "# flatten後的shape是4608，接到512個神經元的全連接層 -> 4608*512 + 512個偏量b = 2359808 個權重參數\n",
        "# 全連接對比前面conv的參數量，是7位數比5位數，所以傳統NN非常耗計算效能"
      ]
    },
    {
      "cell_type": "markdown",
      "metadata": {
        "id": "GFnJT_vVWn1M"
      },
      "source": [
        "配置训练器"
      ]
    },
    {
      "cell_type": "code",
      "execution_count": null,
      "metadata": {
        "id": "anR2p_UMX9TA"
      },
      "outputs": [],
      "source": [
        "# model就是看得到的「實體網路結構」，比如位於哪一層、有幾個神經元、維度形狀長怎樣\n",
        "# model.compile是「可選的數學算法」，比如loss常寫成複雜的數學公式，而優化器當然是演算法，評量方式也是一套數學算法\n",
        "model.compile(loss='binary_crossentropy',\n",
        "              optimizer=Adam(lr=1e-4),\n",
        "              metrics=['acc'])"
      ]
    },
    {
      "cell_type": "markdown",
      "metadata": {
        "id": "qYHHf_Cf7x66"
      },
      "source": [
        "### 数据预处理\n",
        "\n",
        "- 读进来的数据会被自动转换成tensor(float32)格式，分别准备训练和验证\n",
        "- 图像数据归一化（0-1）区间"
      ]
    },
    {
      "cell_type": "code",
      "execution_count": null,
      "metadata": {
        "collapsed": true,
        "id": "6iogIhqTxGeX"
      },
      "outputs": [],
      "source": [
        "# 图片生成器\n",
        "# https://keras-cn.readthedocs.io/en/latest/preprocessing/image/\n",
        "\n",
        "# ImageDataGenerator(可設參數多到爆炸)\n",
        "# 用以生成一个batch的图像数据，训练时该函数会无限生成数据，\n",
        "# 直到达到规定的epoch次数为止，支持实时数据提升。\n",
        "\n",
        "# 主要是通過修改資料集中的圖片達成，使用平移、翻轉、亮度以及縮放的資料增強方法。\n",
        "# 更多的訓練資料帶來的是更有效的深度學習模型，同時，資料增強技術會產生更多的圖片變體，\n",
        "# 這些變體會提高模型對新圖片的泛化能力。\n",
        "\n",
        "# 這邊把ImageDataGenerator，拿來做rescale歸一化成0~1間，殺雞用牛刀等級而已\n",
        "train_datagen = ImageDataGenerator(rescale=1./255) \n",
        "test_datagen = ImageDataGenerator(rescale=1./255)"
      ]
    },
    {
      "cell_type": "code",
      "execution_count": null,
      "metadata": {
        "colab": {
          "base_uri": "https://localhost:8080/"
        },
        "id": "f9D_MjIHx2XD",
        "outputId": "ff677479-e031-4930-8a1f-41e6a83b6777"
      },
      "outputs": [
        {
          "output_type": "stream",
          "name": "stdout",
          "text": [
            "Found 2000 images belonging to 2 classes.\n",
            "Found 1000 images belonging to 2 classes.\n"
          ]
        }
      ],
      "source": [
        "# tf.keras.preprocessing.image.ImageDataGenerator.flow_from_directory\n",
        "# https://www.tensorflow.org/api_docs/python/tf/keras/preprocessing/image/ImageDataGenerator#flow_from_directory\n",
        "# 作用：獲取目錄的路徑並生成批量增強數據。\n",
        "# return： 其中的DirectoryIterator產生元組是一個 numpy 數組，(x, y) -> (圖像，標籤)\n",
        "# x是一批(batch_size, *target_size, channels)維度的圖像，y是對應標籤的 numpy 數組。\n",
        "\n",
        "# tf.keras.preprocessing.image.DirectoryIterator是一個類，繼承自Iterator、Sequence\n",
        "# https://www.tensorflow.org/api_docs/python/tf/keras/preprocessing/image/DirectoryIterator\n",
        "\n",
        "train_generator = train_datagen.flow_from_directory(\n",
        "        train_dir,  # 路徑下，不同圖像用不同資料夾裝，達成標籤的分類效果\n",
        "        target_size=(64, 64),  # 因為訓練圖像有大有小，所以全部resize成一個大小\n",
        "        batch_size=20, # 一次取一個batch的圖像讀到內存去做處理\n",
        "        # 如果one-hot就是categorical，二分类用binary就可以\n",
        "        class_mode='binary')\n",
        "\n",
        "validation_generator = test_datagen.flow_from_directory(\n",
        "        validation_dir,\n",
        "        target_size=(64, 64),\n",
        "        batch_size=20,\n",
        "        class_mode='binary')"
      ]
    },
    {
      "cell_type": "markdown",
      "metadata": {
        "id": "I8TfHlDGx8Gz"
      },
      "source": [
        "### 训练网络模型\n",
        "- 直接fit也可以，但是通常咱们不能把所有数据全部放入内存，fit_generator相当于一个生成器，动态产生所需的batch数据\n",
        "- steps_per_epoch相当给定一个停止条件，因为生成器会不断产生batch数据，说白了就是它不知道一个epoch里需要执行多少个step"
      ]
    },
    {
      "cell_type": "code",
      "execution_count": null,
      "metadata": {
        "colab": {
          "base_uri": "https://localhost:8080/"
        },
        "id": "m6yLZpibyMXB",
        "outputId": "765678f2-1f29-4c7d-bb20-dae98282e5bd"
      },
      "outputs": [
        {
          "output_type": "stream",
          "name": "stdout",
          "text": [
            "Epoch 1/20\n",
            "100/100 - 425s - loss: 0.6894 - acc: 0.5190 - val_loss: 0.6718 - val_acc: 0.5700 - 425s/epoch - 4s/step\n",
            "Epoch 2/20\n",
            "100/100 - 15s - loss: 0.6579 - acc: 0.6235 - val_loss: 0.6383 - val_acc: 0.6530 - 15s/epoch - 148ms/step\n",
            "Epoch 3/20\n",
            "100/100 - 15s - loss: 0.6071 - acc: 0.6730 - val_loss: 0.5977 - val_acc: 0.6850 - 15s/epoch - 148ms/step\n",
            "Epoch 4/20\n",
            "100/100 - 15s - loss: 0.5709 - acc: 0.7075 - val_loss: 0.5811 - val_acc: 0.7100 - 15s/epoch - 154ms/step\n",
            "Epoch 5/20\n",
            "100/100 - 15s - loss: 0.5393 - acc: 0.7340 - val_loss: 0.5696 - val_acc: 0.7120 - 15s/epoch - 152ms/step\n",
            "Epoch 6/20\n",
            "100/100 - 15s - loss: 0.5080 - acc: 0.7550 - val_loss: 0.6062 - val_acc: 0.6870 - 15s/epoch - 152ms/step\n",
            "Epoch 7/20\n",
            "100/100 - 15s - loss: 0.4731 - acc: 0.7880 - val_loss: 0.5774 - val_acc: 0.6990 - 15s/epoch - 151ms/step\n",
            "Epoch 8/20\n",
            "100/100 - 15s - loss: 0.4568 - acc: 0.7940 - val_loss: 0.5647 - val_acc: 0.7020 - 15s/epoch - 152ms/step\n",
            "Epoch 9/20\n",
            "100/100 - 15s - loss: 0.4279 - acc: 0.8135 - val_loss: 0.5494 - val_acc: 0.7260 - 15s/epoch - 152ms/step\n",
            "Epoch 10/20\n",
            "100/100 - 16s - loss: 0.3976 - acc: 0.8235 - val_loss: 0.5418 - val_acc: 0.7260 - 16s/epoch - 155ms/step\n",
            "Epoch 11/20\n",
            "100/100 - 16s - loss: 0.3685 - acc: 0.8380 - val_loss: 0.5333 - val_acc: 0.7440 - 16s/epoch - 156ms/step\n",
            "Epoch 12/20\n",
            "100/100 - 15s - loss: 0.3575 - acc: 0.8470 - val_loss: 0.5431 - val_acc: 0.7430 - 15s/epoch - 152ms/step\n",
            "Epoch 13/20\n",
            "100/100 - 15s - loss: 0.3153 - acc: 0.8750 - val_loss: 0.5526 - val_acc: 0.7370 - 15s/epoch - 152ms/step\n",
            "Epoch 14/20\n",
            "100/100 - 15s - loss: 0.3172 - acc: 0.8700 - val_loss: 0.5250 - val_acc: 0.7620 - 15s/epoch - 153ms/step\n",
            "Epoch 15/20\n",
            "100/100 - 16s - loss: 0.2740 - acc: 0.8995 - val_loss: 0.5429 - val_acc: 0.7480 - 16s/epoch - 161ms/step\n",
            "Epoch 16/20\n",
            "100/100 - 16s - loss: 0.2453 - acc: 0.9185 - val_loss: 0.6285 - val_acc: 0.7170 - 16s/epoch - 160ms/step\n",
            "Epoch 17/20\n",
            "100/100 - 16s - loss: 0.2321 - acc: 0.9210 - val_loss: 0.6038 - val_acc: 0.7270 - 16s/epoch - 161ms/step\n",
            "Epoch 18/20\n",
            "100/100 - 16s - loss: 0.2167 - acc: 0.9190 - val_loss: 0.5615 - val_acc: 0.7570 - 16s/epoch - 160ms/step\n",
            "Epoch 19/20\n",
            "100/100 - 16s - loss: 0.1974 - acc: 0.9385 - val_loss: 0.5849 - val_acc: 0.7420 - 16s/epoch - 160ms/step\n",
            "Epoch 20/20\n",
            "100/100 - 16s - loss: 0.1721 - acc: 0.9465 - val_loss: 0.5797 - val_acc: 0.7630 - 16s/epoch - 160ms/step\n"
          ]
        }
      ],
      "source": [
        "# 以前是model.fit，也就是一次從硬盤讀取所有資料到內存\n",
        "# model.fit_generator是訓練的時候，要用誰就拿誰，動態的一次次去取batch到內存（記憶體）裡\n",
        "history = model.fit_generator( \n",
        "      train_generator,\n",
        "      steps_per_epoch=100,  # 2000 images = batch_size * steps\n",
        "      epochs=20,\n",
        "      validation_data=validation_generator,\n",
        "      validation_steps=50,  # 1000 images = batch_size * steps\n",
        "      verbose=2)\n",
        "\n",
        "# 跑完20個epoch之後的準確率，訓練集95%，驗證集76%，差了20%也太大了！所以明顯是過擬合\n",
        "# Epoch 1/20\n",
        "# 100/100 - 425s - loss: 0.6894 - acc: 0.5190 - val_loss: 0.6718 - val_acc: 0.5700 - 425s/epoch - 4s/step\n",
        "# Epoch 20/20\n",
        "# 100/100 - 16s - loss: 0.1721 - acc: 0.9465 - val_loss: 0.5797 - val_acc: 0.7630 - 16s/epoch - 160ms/step"
      ]
    },
    {
      "cell_type": "markdown",
      "metadata": {
        "id": "jJFgckBNyhu8"
      },
      "source": [
        "### 效果展示"
      ]
    },
    {
      "cell_type": "code",
      "execution_count": null,
      "metadata": {
        "colab": {
          "base_uri": "https://localhost:8080/",
          "height": 545
        },
        "id": "Bc-Y9ymQz1nq",
        "outputId": "9b0f2631-6dc7-40fa-8917-074655e6b94c"
      },
      "outputs": [
        {
          "output_type": "display_data",
          "data": {
            "text/plain": [
              "<Figure size 432x288 with 1 Axes>"
            ],
            "image/png": "[encoded data removed]"
          },
          "metadata": {
            "needs_background": "light"
          }
        },
        {
          "output_type": "display_data",
          "data": {
            "text/plain": [
              "<Figure size 432x288 with 1 Axes>"
            ],
            "image/png": "[encoded data removed]"
          },
          "metadata": {
            "needs_background": "light"
          }
        }
      ],
      "source": [
        "import matplotlib.pyplot as plt\n",
        "\n",
        "# 跑訓練時列印出的(train、validation)*(loss， accuracy)，其實就是model.fit的回傳\n",
        "# 這些中間的歷史數據，可以用.history去取出，然後用pyplot做成視覺化輸出\n",
        "acc = history.history['acc']\n",
        "val_acc = history.history['val_acc']\n",
        "loss = history.history['loss']\n",
        "val_loss = history.history['val_loss']\n",
        "\n",
        "# 要做x軸，所以要知道有做幾次epoch。輸出一次，就代表一次epoch\n",
        "# 所以4個輸出隨便抓一個，去算元素個數，就知道有幾個epoch，就可以做出x軸了\n",
        "epochs = range(len(acc))\n",
        "\n",
        "plt.plot(epochs, acc, 'bo', label='Training accuracy') # plot就是開始畫線\n",
        "plt.plot(epochs, val_acc, 'b', label='Validation accuracy') # 第二次用plot，就代表畫第2條線\n",
        "plt.title('Training and validation accuracy')\n",
        "plt.legend()\n",
        "\n",
        "# 上面直接做plt.plot，但沒做plt.figure(xxx)，編譯器會自己幫忙補進去。\n",
        "# 這邊的plt.figure() 沒給參數，所以意思就是，反正我就是要再創一張畫布，隨便你幫我default配置就好了\n",
        "plt.figure() \n",
        "\n",
        "plt.plot(epochs, loss, 'bo', label='Training Loss')\n",
        "plt.plot(epochs, val_loss, 'b', label='Validation Loss')\n",
        "plt.title('Training and validation loss')\n",
        "plt.legend()\n",
        "\n",
        "# 前面都完成後，要把圖表print出來\n",
        "# print(xxx)是將文字做顯示，plt.show()是將圖表做顯示\n",
        "plt.show() "
      ]
    },
    {
      "cell_type": "markdown",
      "metadata": {
        "id": "GyYqaeSu7x7A"
      },
      "source": [
        "看起来完全过拟合了，如何解决呢？"
      ]
    }
  ],
  "metadata": {
    "accelerator": "GPU",
    "colab": {
      "collapsed_sections": [],
      "name": "220321_猫狗识别.ipynb",
      "provenance": [],
      "include_colab_link": true
    },
    "kernelspec": {
      "display_name": "Python 3 (ipykernel)",
      "language": "python",
      "name": "python3"
    },
    "language_info": {
      "codemirror_mode": {
        "name": "ipython",
        "version": 3
      },
      "file_extension": ".py",
      "mimetype": "text/x-python",
      "name": "python",
      "nbconvert_exporter": "python",
      "pygments_lexer": "ipython3",
      "version": "3.9.7"
    }
  },
  "nbformat": 4,
  "nbformat_minor": 0
}